{
 "cells": [
  {
   "cell_type": "code",
   "execution_count": null,
   "metadata": {},
   "outputs": [],
   "source": [
    "#Importing libraries\n",
    "import requests as rq\n",
    "import json\n",
    "from pymongo import MongoClient\n",
    "import pandas as pd\n",
    "\n",
    "try:\n",
    "    #Creating MongoDB schema and collection for raw data\n",
    "    client = MongoClient('localhost',27017)\n",
    "    db_name = 'Education_NY'\n",
    "    db = client[db_name]\n",
    "    collection = db['edu_ny_rawdata']\n",
    "    \n",
    "    #Downloading the data from newyork state government website\n",
    "    data_url = 'https://data.ny.gov/resource/64ar-ackz.json'\n",
    "    edu_year_list = ['Fall 2016','Fall 2017','Fall 2018','Fall 2019']\n",
    "    for eyl in edu_year_list:\n",
    "        #Retrieving data from API\n",
    "        req_url = data_url+'?term='+eyl+'&$limit=5000'\n",
    "        response = rq.get(req_url)\n",
    "        #response.raise_for_status()\n",
    "        \n",
    "        #Inserting the raw data into MongoDB\n",
    "        if (response.status_code == 200):\n",
    "            print(\"The request was a success!\")\n",
    "            json_data = response.json()\n",
    "            l_count=len(json_data)\n",
    "            collection.insert_many(json_data)\n",
    "            print(l_count)\n",
    "        elif (response.status_code == 404):\n",
    "            print(\"Result not found!\")\n",
    "    \n",
    "except requests.exceptions.HTTPError as errh:\n",
    "    print(errh)\n",
    "except requests.exceptions.ConnectionError as errc:\n",
    "    print(errc)\n",
    "except requests.exceptions.Timeout as errt:\n",
    "    print(errt)\n",
    "except requests.exceptions.RequestException as err:\n",
    "    print(err)"
   ]
  },
  {
   "cell_type": "code",
   "execution_count": null,
   "metadata": {},
   "outputs": [],
   "source": [
    "#Data Exploration\n",
    "# Geo location data from all records is removed\n",
    "collection.update_many({}, {'$unset': {'location_1': None}})\n",
    "\n",
    "#Loading data into dataframe\n",
    "df = pd.DataFrame(list(collection.find()))\n",
    "\n",
    "# shape of the data\n",
    "print('==========================')\n",
    "print('**************************')\n",
    "print('Shape of dataset')\n",
    "print('**************************')\n",
    "print(df.shape)\n",
    "print('==========================')\n",
    "\n",
    "# preview dataset\n",
    "print('==========================')\n",
    "print('**************************')\n",
    "print('Basic Preview')\n",
    "print('**************************')\n",
    "print(df.head())\n",
    "print('==========================')\n",
    "\n",
    "# view column names\n",
    "print('==========================')\n",
    "print('**************************')\n",
    "print('Column Names of dataset')\n",
    "print('**************************')\n",
    "print(df.columns)\n",
    "print('==========================')\n",
    "\n",
    "# view dataframe summary\n",
    "print('==========================')\n",
    "print('**************************')\n",
    "print('Brief summary about dataset')\n",
    "print('**************************')\n",
    "print(df.info())\n",
    "print('==========================')\n",
    "\n",
    "print('Number of Categorical Columns: ', len(df.select_dtypes(include=object).columns))\n",
    "print('Number of Numerical Columns: ', len(df.select_dtypes(exclude=object).columns))"
   ]
  },
  {
   "cell_type": "code",
   "execution_count": null,
   "metadata": {},
   "outputs": [],
   "source": [
    "# Data Preprocessing\n",
    "# check for null values\n",
    "print(df.isnull().sum())"
   ]
  },
  {
   "cell_type": "code",
   "execution_count": null,
   "metadata": {},
   "outputs": [],
   "source": [
    "# check for missing values\n",
    "print(df.isna().sum())"
   ]
  },
  {
   "cell_type": "code",
   "execution_count": null,
   "metadata": {},
   "outputs": [],
   "source": [
    "#Replacing term column values with numeric years\n",
    "df['term'].replace({\"Fall 2016\":\"2016\", \"Fall 2017\":\"2017\", \"Fall 2018\":\"2018\", \"Fall 2019\":\"2019\"}, inplace=True)\n",
    "\n",
    "print(df['term'].head())"
   ]
  },
  {
   "cell_type": "code",
   "execution_count": null,
   "metadata": {},
   "outputs": [],
   "source": [
    "#Replacing student count of <4 values with 1(This assumption is to make the data uniform for processing)\n",
    "df['total_attending_suny_institutions'].replace({\"<4\":\"1\"}, inplace=True)\n",
    "df['attending_suny_doctoral_institutions'].replace({\"<4\":\"1\"}, inplace=True)\n",
    "df['attending_suny_comprehensive_colleges'].replace({\"<4\":\"1\"}, inplace=True)\n",
    "df['attending_suny_technology_colleges'].replace({\"<4\":\"1\"}, inplace=True)\n",
    "df['attending_suny_community_colleges'].replace({\"<4\":\"1\"}, inplace=True)\n",
    "\n"
   ]
  },
  {
   "cell_type": "code",
   "execution_count": null,
   "metadata": {},
   "outputs": [],
   "source": [
    "df.info()"
   ]
  },
  {
   "cell_type": "code",
   "execution_count": null,
   "metadata": {},
   "outputs": [],
   "source": [
    "# Converting datatype from object to integer to get summary statistics and perform aggregation\n",
    "\n",
    "df['total_attending_suny_institutions'] = df['total_attending_suny_institutions'].astype('int')\n",
    "df['attending_suny_doctoral_institutions'] = df['attending_suny_doctoral_institutions'].astype('int')\n",
    "df['attending_suny_comprehensive_colleges'] = df['attending_suny_comprehensive_colleges'].astype('int')\n",
    "df['attending_suny_technology_colleges'] = df['attending_suny_technology_colleges'].astype('int')\n",
    "df['attending_suny_community_colleges'] = df['attending_suny_community_colleges'].astype('int')"
   ]
  },
  {
   "cell_type": "code",
   "execution_count": null,
   "metadata": {},
   "outputs": [],
   "source": [
    "df.info()"
   ]
  },
  {
   "cell_type": "code",
   "execution_count": null,
   "metadata": {},
   "outputs": [],
   "source": [
    "# Getting the list of unique counties to find total number of enrolled students in each county\n",
    "\n",
    "unique_county_list = df['county'].unique().tolist()\n",
    "print(unique_county_list)"
   ]
  },
  {
   "cell_type": "code",
   "execution_count": null,
   "metadata": {},
   "outputs": [],
   "source": [
    "len(unique_county_list)"
   ]
  },
  {
   "cell_type": "code",
   "execution_count": null,
   "metadata": {},
   "outputs": [],
   "source": [
    "# Converting the dataframe to csv file for storing in Postgres database\n",
    "df.to_csv(r'education_ny.csv', index=False, header=True)"
   ]
  },
  {
   "cell_type": "code",
   "execution_count": null,
   "metadata": {},
   "outputs": [],
   "source": [
    "#Create table\n",
    "\n",
    "try:\n",
    "    dbConnection = psycopg2.connect(\n",
    "        user = \"postgres\",\n",
    "        password = \"lightyear\",\n",
    "        host = \"localhost\",\n",
    "        port = \"5432\",\n",
    "        database = \"dapgroupm\")\n",
    "    dbConnection.set_isolation_level(0)\n",
    "    dbCursor = dbConnection.cursor()\n",
    "    dbCursor.execute(\"\"\"\n",
    "        CREATE TABLE edu_ny_data(\n",
    "        _id varchar(255),\n",
    "        term varchar(255),\n",
    "        high_school_name varchar(255),\n",
    "        high_school_ceeb varchar(255),\n",
    "        city varchar(255),\n",
    "        county varchar(255),\n",
    "        zip_code varchar(255),\n",
    "        total_attending_suny_institutions int,\n",
    "        attending_suny_doctoral_institutions int,\n",
    "        attending_suny_comprehensive_colleges int,\n",
    "        attending_suny_technology_colleges int,\n",
    "        attending_suny_community_colleges int\n",
    "        );\n",
    "    \"\"\")\n",
    "except (Exception , psycopg2.Error) as dbError :\n",
    "    print (\"Error while connecting to PostgreSQL\", dbError)\n",
    "finally:\n",
    "    if(dbConnection): \n",
    "        dbConnection.close()"
   ]
  },
  {
   "cell_type": "code",
   "execution_count": null,
   "metadata": {},
   "outputs": [],
   "source": [
    "#Insert values\n",
    "import psycopg2\n",
    "import csv\n",
    "try:\n",
    "    dbConnection = psycopg2.connect(\n",
    "        user = \"postgres\",\n",
    "        password = \"lightyear\",\n",
    "        host = \"localhost\",\n",
    "        port = \"5432\",\n",
    "        database = \"dapgroupm\")\n",
    "    dbConnection.set_isolation_level(0) # AUTOCOMMIT\n",
    "    dbCursor = dbConnection.cursor()\n",
    "    with open('education_ny.csv', 'r') as f:\n",
    "        reader = csv.reader(f)\n",
    "        next(reader) # skip the header\n",
    "        for row in reader:\n",
    "            dbCursor.execute(\"INSERT INTO edu_ny_data VALUES (%s,%s,%s,%s,%s,%s,%s,%s,%s,%s,%s,%s)\",row)\n",
    "    dbConnection.commit()\n",
    "    dbCursor.close()\n",
    "except (Exception , psycopg2.Error) as dbError :\n",
    "    print (\"Error:\", dbError)\n",
    "finally:\n",
    "    if(dbConnection): \n",
    "        dbConnection.close()"
   ]
  },
  {
   "cell_type": "code",
   "execution_count": null,
   "metadata": {},
   "outputs": [],
   "source": [
    "# Data Visualization on education dataset\n",
    "\n",
    "# Retrieving data from postgres to load into dataframe\n",
    "\n",
    "import pandas as pd\n",
    "import pandas.io.sql as sqlio\n",
    "import psycopg2\n",
    "sql_2017 = '''select county,term,sum(attending_suny_doctoral_institutions) as \"tot_doct_stu\" ,\n",
    "sum(attending_suny_comprehensive_colleges) as \"tot_comp_stu\" ,\n",
    "sum(attending_suny_technology_colleges) as \"tot_tech_stu\" ,\n",
    "sum(attending_suny_community_colleges) as \"tot_comm_stu\" \n",
    "from edu_ny_data where term = '2017' group by term,county \n",
    "order by county,term;'''\n",
    "\n",
    "sql_2018 = '''select county,term,sum(attending_suny_doctoral_institutions) as \"tot_doct_stu\" ,\n",
    "sum(attending_suny_comprehensive_colleges) as \"tot_comp_stu\" ,\n",
    "sum(attending_suny_technology_colleges) as \"tot_tech_stu\" ,\n",
    "sum(attending_suny_community_colleges) as \"tot_comm_stu\" \n",
    "from edu_ny_data where term = '2018' group by term,county \n",
    "order by county,term;'''\n",
    "\n",
    "sql_2019 = '''select county,term,sum(attending_suny_doctoral_institutions) as \"tot_doct_stu\" ,\n",
    "sum(attending_suny_comprehensive_colleges) as \"tot_comp_stu\" ,\n",
    "sum(attending_suny_technology_colleges) as \"tot_tech_stu\" ,\n",
    "sum(attending_suny_community_colleges) as \"tot_comm_stu\" \n",
    "from edu_ny_data where term = '2019' group by term,county \n",
    "order by county,term;'''\n",
    "\n",
    "try:\n",
    "    dbConnection = psycopg2.connect(\n",
    "        user = \"postgres\",\n",
    "        password = \"lightyear\",\n",
    "        host = \"localhost\",\n",
    "        port = \"5432\",\n",
    "        database = \"dapgroupm\")\n",
    "    df_eduny_17 = sqlio.read_sql_query(sql_2017, dbConnection)\n",
    "    df_eduny_18 = sqlio.read_sql_query(sql_2018, dbConnection)\n",
    "    df_eduny_19 = sqlio.read_sql_query(sql_2019, dbConnection)\n",
    "except (Exception, psycopg2.Error) as dbError :\n",
    "    print (\"Error:\", dbError)\n",
    "finally:\n",
    "    if(dbConnection): \n",
    "        dbConnection.close()\n",
    "\n",
    "df_eduny_17"
   ]
  },
  {
   "cell_type": "code",
   "execution_count": null,
   "metadata": {},
   "outputs": [],
   "source": [
    "# Plotting data for year 2017\n",
    "import matplotlib.pyplot as plt\n",
    "import numpy as np\n",
    "\n",
    "index = np.arange(62)\n",
    "width = 0.3\n",
    "\n",
    "plt.figure(figsize=(25, 8))\n",
    "plt.bar(index,df_eduny_17['tot_doct_stu'],width,color=\"green\",label=\"Doctoral Students\")\n",
    "plt.bar(index+width,df_eduny_17['tot_comp_stu'],width,color=\"magenta\",label=\"Comprehensive college students\")\n",
    "plt.bar(index+width,df_eduny_17['tot_tech_stu'],width,color=\"orange\",label=\"Technology students\")\n",
    "plt.bar(index+width,df_eduny_17['tot_comm_stu'],width,color=\"cyan\",label=\"Community college students\")\n",
    "plt.xlabel(\"County\")\n",
    "plt.ylabel(\"Total students\")\n",
    "plt.title(\"Student enrollment in different colleges(Year 2017)\")\n",
    "plt.xticks(index+width,df_eduny_17['county'],rotation=90)\n",
    "\n",
    "plt.legend(loc=\"best\")\n",
    "plt.show()"
   ]
  }
 ],
 "metadata": {
  "kernelspec": {
   "display_name": "Python 3",
   "language": "python",
   "name": "python3"
  },
  "language_info": {
   "codemirror_mode": {
    "name": "ipython",
    "version": 3
   },
   "file_extension": ".py",
   "mimetype": "text/x-python",
   "name": "python",
   "nbconvert_exporter": "python",
   "pygments_lexer": "ipython3",
   "version": "3.8.5"
  }
 },
 "nbformat": 4,
 "nbformat_minor": 4
}
